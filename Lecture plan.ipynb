{
 "cells": [
  {
   "cell_type": "markdown",
   "metadata": {},
   "source": [
    "# Lecture plan\n",
    "\n",
    "The course revolves around the building of abstractions which can be safely composed. We will begin with a short discussion on our basic toolbox, referentially transparent functions and types, and then start defining abstract patterns such as functors and monoids.\n",
    "\n",
    "We will then move onto a combination of the concepts of functor and monoid, thereby obtaining monads. We will then show various monads which have been proven to be powerful in actual programming practice."
   ]
  },
  {
   "cell_type": "markdown",
   "metadata": {},
   "source": [
    "## Basic toolbox\n",
    "\n",
    "- Functions, types\n",
    "- Composition of types and referential transparency"
   ]
  },
  {
   "cell_type": "markdown",
   "metadata": {},
   "source": [
    "## Functors \n",
    "\n",
    "- Generic types as functions between types\n",
    "- Generic types _induce_ `map`, which is a function between functions\n",
    "- Examples:\n",
    "    - Identity\n",
    "    - Pair (left, right, product)\n",
    "    - Sum (left, right, product)\n",
    "    - Option\n",
    "    - List\n",
    "- Properties of functors: preservation of identity and composition\n",
    "    - Useful tip: performance optimization by merging maps\n",
    "- Functors can be composed into new functors\n",
    "    - List(Option)"
   ]
  },
  {
   "cell_type": "markdown",
   "metadata": {},
   "source": [
    "## Monoids\n",
    "\n",
    "- Fundamental structure which arises everywhere\n",
    "- Joining, unit, associativity\n",
    "- Examples:\n",
    "    - string, plus, empty\n",
    "    - number, plus, 0\n",
    "    - number, times, 1\n",
    "    - list, concat, empty\n",
    "    - ...\n",
    "- Monoids over functors:\n",
    "- Reformulation of monoids in functional terms: unit becomes a function (eta/return)"
   ]
  },
  {
   "cell_type": "markdown",
   "metadata": {},
   "source": [
    "## Monads introduction\n",
    "\n",
    "- Monads arise everywhere we can augment a functor with joining, unit, and associativity\n",
    "- The bind operator\n",
    "- Examples:\n",
    "    - Identity (bind is simply function composition!)\n",
    "    - Pair (left and right)"
   ]
  },
  {
   "cell_type": "markdown",
   "metadata": {},
   "source": [
    "We now move on to more and more advanced monads which are quite useful in practice.\n",
    "\n",
    "### Sum(s)\n",
    "\n",
    "- Concept: safe representation of a happy-flow and an error flow    \n",
    "- Sum (left and right)\n",
    "- Option\n",
    "- Exception\n",
    "- Examples:\n",
    "    - Optional in Java\n",
    "    - Maybe in Haskell\n",
    "    - Optional in C++"
   ]
  },
  {
   "cell_type": "markdown",
   "metadata": {},
   "source": [
    "### State\n",
    "\n",
    "- Concept: arbitrating state-management, own DSL\n",
    "- Example:\n",
    "- Mini-language"
   ]
  },
  {
   "cell_type": "markdown",
   "metadata": {},
   "source": [
    "### Combining monads: parser\n",
    "\n",
    "- Concept: different monads can be composed together in order to form a larger monad\n",
    "    - The larger monad is still a monad!\n",
    "- Let us show that parser is the combination of state and option/exception\n",
    "- Example:\n",
    "    - Parser for the mini-language from the State\n",
    "    - Mini-language with exceptions"
   ]
  },
  {
   "cell_type": "markdown",
   "metadata": {},
   "source": [
    "### Coroutines\n",
    "\n",
    "- Concept: modelling domain-specific concurrency in a concurrency-unsafe host-language\n",
    "- Examples:\n",
    "    - Promises\n",
    "    - TPL\n",
    "    - Mini-language with exceptions and breakpoints"
   ]
  }
 ],
 "metadata": {
  "kernelspec": {
   "display_name": "Python 3",
   "language": "python",
   "name": "python3"
  },
  "language_info": {
   "codemirror_mode": {
    "name": "ipython",
    "version": 3
   },
   "file_extension": ".py",
   "mimetype": "text/x-python",
   "name": "python",
   "nbconvert_exporter": "python",
   "pygments_lexer": "ipython3",
   "version": "3.5.2"
  }
 },
 "nbformat": 4,
 "nbformat_minor": 2
}
