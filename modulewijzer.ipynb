{
 "cells": [
  {
   "cell_type": "markdown",
   "metadata": {},
   "source": [
    "# Software engineering 1, 2017-18"
   ]
  },
  {
   "cell_type": "markdown",
   "metadata": {},
   "source": [
    "## Introduction\n",
    "This is the course descriptor for the Software Engineering course.\n",
    "\n",
    "Software engineering 1 covers functors and monads, which are advanced patterns used to structure code in a composable way to solve a variety of problems in query-management, UI rendering, parallel processing, and more. The focus of the course will be on the patterns, and not on a pervasive philosophy of functional programming. These patterns are used in the practice of modern mainstream programming languages, from C# and Java to the JavaScript world. For this reason, we will build examples in TypeScript, a modern popular statically-typed variant of JavaScript with both a rich type system and broad appeal for professionals.\n",
    "\n",
    "Thanks to this course, students will understand advanced patterns and the important principle of composition at a higher level of abstraction."
   ]
  },
  {
   "cell_type": "markdown",
   "metadata": {},
   "source": [
    "### Learning goals\n",
    "The course has the following learning goals:\n",
    "- (ICODE) students can _recognize and formally interpret_ important properties of abstract patterns such as associativity, preservation of identity, or homomorphism;\n",
    "- (WCODE) students can _write small snippets of code_ in order to complete the implementation of a known abstract pattern.\n",
    "\n",
    "The course, and therefore also the learning goals, are limited to **referentially transparent**, **type-safe** programs written in TypeScript.\n",
    "\n",
    "The corresponding competences connected to these learning goals are: \n",
    "- realisation.\n",
    "\n",
    "### Learning materials\n",
    "\n",
    "The mandatory learning materials are:\n",
    "- reader of the lectures, which will be made available one week after the lecture\n",
    "- materials on the Github repository (github.com/hogeschool), which is already online"
   ]
  },
  {
   "cell_type": "markdown",
   "metadata": {},
   "source": [
    "### Exam\n",
    "The exam is divided in two parts:\n",
    "#### Theory\n",
    "- (MC) a series of fifteen (15) *multiple-choice* questions on the formal properties of examples of code, ranging from associativity to functoriality and more.\n",
    "\n",
    "#### Practice\n",
    "- (BA) a series of five (5) *backward assignments*, that is exercises where students, given partial code implementing a monad or function, are requested to fill in the missing code that matches the given specification. All monads and functors seen in class may be asked here.\n",
    "\n",
    "#### Scoring\n",
    "The theory questions are worth one point each. The practice questions are worth three points each. The maximum total score is therefore 30.\n",
    "\n",
    "Both parts of the exam must score above 55%: if there are more than 6 errors in the theory, or more than 2 errors in the practice, then the points for the course will not be awarded and the insufficient part will need to be retaken.\n",
    "\n",
    "The final grade is computed as follows:\n",
    "\n",
    "grade = score * 30 / 10\n",
    "\n",
    "This is justified: even though there are more MC's than BA's, the BA's require actively _writing code_, which is significantly more complex than providing a description of formal properties, seen that it combines technical understanding and creativity.\n",
    "\n",
    "#### Exam matrix\n",
    "The exam covers all learning goals.\n",
    "\n",
    "| Exam part     | ICODE         | WCODE         |\n",
    "| ------------- |:-------------:|:-------------:|\n",
    "| MC            | V             |               |\n",
    "| BA            |               | V             |\n"
   ]
  },
  {
   "cell_type": "markdown",
   "metadata": {},
   "source": [
    "## Lecture plan\n",
    "The course is made up of eight lectures, usually planned as one lecture per lesson week (for details, see lesson schedule on HINT). \n",
    "\n",
    "The lesson units covered by the course are the following:\n",
    "- Types, functions, and their composition\n",
    "- Functors, their implementation, and properties\n",
    "- Monoids in set, monoids in programming\n",
    "- Monads as monoids and (endo-) functors\n",
    "- Very simple monads: Identity\n",
    "- Sum monad(s): Plus, Exception, Option\n",
    "- State monad\n",
    "- Composition of monads: Parser\n",
    "- Composition of monads: Coroutine\n",
    "\n",
    "\n",
    "Note that each lesson unit does not necessarily correspond to one lesson week (for example, one lesson unit could span during two lesson weeks or two lesson units could be handled during one lesson week)."
   ]
  },
  {
   "cell_type": "markdown",
   "metadata": {},
   "source": [
    "## Study points and contact time\n",
    "The course awards students 4 ECTS, in correspondence with 112 hours of study.\n",
    "\n",
    "The course consists of eight frontal lectures for the theory, and eight assisted practicums. The rest is self study."
   ]
  }
 ],
 "metadata": {
  "kernelspec": {
   "display_name": "Python 3",
   "language": "python",
   "name": "python3"
  },
  "language_info": {
   "codemirror_mode": {
    "name": "ipython",
    "version": 3
   },
   "file_extension": ".py",
   "mimetype": "text/x-python",
   "name": "python",
   "nbconvert_exporter": "python",
   "pygments_lexer": "ipython3",
   "version": "3.5.2"
  }
 },
 "nbformat": 4,
 "nbformat_minor": 1
}
